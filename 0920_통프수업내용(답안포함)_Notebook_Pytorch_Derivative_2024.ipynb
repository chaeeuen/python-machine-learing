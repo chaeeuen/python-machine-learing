{
  "nbformat": 4,
  "nbformat_minor": 5,
  "metadata": {
    "accelerator": "GPU",
    "colab": {
      "provenance": [],
      "machine_shape": "hm",
      "include_colab_link": true
    },
    "kernelspec": {
      "name": "python3",
      "display_name": "Python 3"
    },
    "language_info": {
      "name": "python"
    }
  },
  "cells": [
    {
      "cell_type": "markdown",
      "metadata": {
        "id": "view-in-github",
        "colab_type": "text"
      },
      "source": [
        "<a href=\"https://colab.research.google.com/github/chaeeuen/python-machine-learing/blob/main/0920_%ED%86%B5%ED%94%84%EC%88%98%EC%97%85%EB%82%B4%EC%9A%A9(%EB%8B%B5%EC%95%88%ED%8F%AC%ED%95%A8)_Notebook_Pytorch_Derivative_2024.ipynb\" target=\"_parent\"><img src=\"https://colab.research.google.com/assets/colab-badge.svg\" alt=\"Open In Colab\"/></a>"
      ]
    },
    {
      "cell_type": "markdown",
      "metadata": {
        "id": "10b153d3-dc8d-4202-a397-75b32ac07943"
      },
      "source": [
        "# Chapter 2. Pytorch\n",
        "\n",
        "## Derivative\n"
      ],
      "id": "10b153d3-dc8d-4202-a397-75b32ac07943"
    },
    {
      "cell_type": "markdown",
      "metadata": {
        "id": "dpnr7dNDxiMz"
      },
      "source": [
        "# 3. Derivatives"
      ],
      "id": "dpnr7dNDxiMz"
    },
    {
      "cell_type": "markdown",
      "metadata": {
        "id": "7FN2-gozxiMz"
      },
      "source": [
        "## 3.1. Derivatives"
      ],
      "id": "7FN2-gozxiMz"
    },
    {
      "cell_type": "markdown",
      "metadata": {
        "id": "W8tXij_yxiMz"
      },
      "source": [
        "Determine the derivative of\n",
        "\n",
        "$ y = 2x^3+x $   \n",
        "\n",
        "at   $x=1$.\n"
      ],
      "id": "W8tXij_yxiMz"
    },
    {
      "cell_type": "code",
      "metadata": {
        "colab": {
          "base_uri": "https://localhost:8080/"
        },
        "id": "VWRHXs90xiMz",
        "outputId": "4d393f51-0b56-4d3c-c387-1a26769cf7da"
      },
      "source": [
        "import torch\n",
        "x = torch.tensor(1., requires_grad=True) #every operation on them should be tracked\n",
        "\n",
        "y = 2 * x ** 3 + x\n",
        "\n",
        "y.backward() # calculate derivatives and stores them in the respective tensors' .grad\n",
        "\n",
        "x.grad"
      ],
      "id": "VWRHXs90xiMz",
      "execution_count": 6,
      "outputs": [
        {
          "output_type": "execute_result",
          "data": {
            "text/plain": [
              "tensor(7.)"
            ]
          },
          "metadata": {},
          "execution_count": 6
        }
      ]
    },
    {
      "cell_type": "markdown",
      "metadata": {
        "id": "gV739GmyxiM0"
      },
      "source": [
        "$ \\frac{dy(x)}{dx} = 6x^{2} + 1$  "
      ],
      "id": "gV739GmyxiM0"
    },
    {
      "cell_type": "markdown",
      "metadata": {
        "id": "EM9vTVcfxiM0"
      },
      "source": [
        "$ \\frac{dy(x=1)}{dx} = 6*1^{2} + 1$"
      ],
      "id": "EM9vTVcfxiM0"
    },
    {
      "cell_type": "code",
      "source": [
        "x = torch.tensor(1., requires_grad=True) #every operation on them should be tracked\n",
        "y = 2 * x ** 3 + x\n",
        "z = torch.exp(y)\n",
        "z.backward()\n",
        "x.grad"
      ],
      "metadata": {
        "colab": {
          "base_uri": "https://localhost:8080/"
        },
        "id": "TnaMgoqAIxqt",
        "outputId": "c48aef57-603e-4b67-95f5-da5f76fa6de2"
      },
      "id": "TnaMgoqAIxqt",
      "execution_count": 7,
      "outputs": [
        {
          "output_type": "execute_result",
          "data": {
            "text/plain": [
              "tensor(140.5988)"
            ]
          },
          "metadata": {},
          "execution_count": 7
        }
      ]
    },
    {
      "cell_type": "code",
      "metadata": {
        "colab": {
          "base_uri": "https://localhost:8080/"
        },
        "id": "mIuxPdl9xiM0",
        "outputId": "2958d410-5d60-4185-b005-ba266786646b"
      },
      "source": [
        "print(x)\n",
        "print('data:',x.data)\n",
        "print('grad:',x.grad)\n",
        "\n"
      ],
      "id": "mIuxPdl9xiM0",
      "execution_count": 8,
      "outputs": [
        {
          "output_type": "stream",
          "name": "stdout",
          "text": [
            "tensor(1., requires_grad=True)\n",
            "data: tensor(1.)\n",
            "grad: tensor(140.5988)\n"
          ]
        }
      ]
    },
    {
      "cell_type": "code",
      "metadata": {
        "colab": {
          "base_uri": "https://localhost:8080/"
        },
        "id": "pwe9nvR-zJQU",
        "outputId": "bf8b24d7-8472-4589-a396-f5ec437fa9d0"
      },
      "source": [
        "print(\"is_leaf:\",x.is_leaf)\n",
        "print(\"requires_grad:\",x.requires_grad)"
      ],
      "id": "pwe9nvR-zJQU",
      "execution_count": 9,
      "outputs": [
        {
          "output_type": "stream",
          "name": "stdout",
          "text": [
            "is_leaf: True\n",
            "requires_grad: True\n"
          ]
        }
      ]
    },
    {
      "cell_type": "code",
      "metadata": {
        "colab": {
          "base_uri": "https://localhost:8080/"
        },
        "id": "zVK8Xu_xxiM0",
        "outputId": "7c23fa86-304f-4db2-fafa-c2526320c6d8"
      },
      "source": [
        "print('data:',y.data)\n",
        "print('grad_fn:',y.grad_fn)\n",
        "print('grad:',y.grad)\n"
      ],
      "id": "zVK8Xu_xxiM0",
      "execution_count": 10,
      "outputs": [
        {
          "output_type": "stream",
          "name": "stdout",
          "text": [
            "data: tensor(3.)\n",
            "grad_fn: <AddBackward0 object at 0x7f67a4305e40>\n",
            "grad: None\n"
          ]
        },
        {
          "output_type": "stream",
          "name": "stderr",
          "text": [
            "<ipython-input-10-6ed5a3c44434>:3: UserWarning: The .grad attribute of a Tensor that is not a leaf Tensor is being accessed. Its .grad attribute won't be populated during autograd.backward(). If you indeed want the .grad field to be populated for a non-leaf Tensor, use .retain_grad() on the non-leaf Tensor. If you access the non-leaf Tensor by mistake, make sure you access the leaf Tensor instead. See github.com/pytorch/pytorch/pull/30531 for more informations. (Triggered internally at aten/src/ATen/core/TensorBody.h:489.)\n",
            "  print('grad:',y.grad)\n"
          ]
        }
      ]
    },
    {
      "cell_type": "code",
      "metadata": {
        "colab": {
          "base_uri": "https://localhost:8080/"
        },
        "id": "e0Os9lrazTu8",
        "outputId": "5970e259-dc30-456c-848c-7f68bbf977a1"
      },
      "source": [
        "print(\"is_leaf:\",y.is_leaf)\n",
        "print(\"requires_grad:\",y.requires_grad)"
      ],
      "id": "e0Os9lrazTu8",
      "execution_count": 11,
      "outputs": [
        {
          "output_type": "stream",
          "name": "stdout",
          "text": [
            "is_leaf: False\n",
            "requires_grad: True\n"
          ]
        }
      ]
    },
    {
      "cell_type": "markdown",
      "metadata": {
        "id": "4hMH1w1FxiM1"
      },
      "source": [
        "### 2-4. Partial Derivates"
      ],
      "id": "4hMH1w1FxiM1"
    },
    {
      "cell_type": "markdown",
      "metadata": {
        "id": "9QcAgKyuxiM1"
      },
      "source": [
        "#### 참고  \n",
        "* `requires_grads=True`인 tensor는 tensor를 바로 .numpy() 로 변환 불가능  \n",
        "* `.detach().numpy()` 로 변환 가능"
      ],
      "id": "9QcAgKyuxiM1"
    },
    {
      "cell_type": "markdown",
      "metadata": {
        "id": "d7U-W4ojxiM2"
      },
      "source": [
        "Try to determine partial derivative  $u$ of the following function where $u=2$ and $v=1$: $ f=uv+(uv)^2$\n"
      ],
      "id": "d7U-W4ojxiM2"
    },
    {
      "cell_type": "code",
      "metadata": {
        "colab": {
          "base_uri": "https://localhost:8080/"
        },
        "id": "DwVCRvBIxiM2",
        "outputId": "cea5c9d2-e772-4acd-da9b-99c059000017"
      },
      "source": [
        "# Practice: Calculate the derivative of f = u * v + (u * v) ** 2 at u = 2, v = 1\n",
        "\n",
        "# Type the code here\n",
        "u = torch.tensor(2., requires_grad=True)\n",
        "v = torch.tensor(1., requires_grad=True)\n",
        "y = u*v + (u*v)**2\n",
        "\n",
        "y.backward()\n",
        "print(u.grad, v.grad)"
      ],
      "id": "DwVCRvBIxiM2",
      "execution_count": 12,
      "outputs": [
        {
          "output_type": "stream",
          "name": "stdout",
          "text": [
            "tensor(5.) tensor(10.)\n"
          ]
        }
      ]
    },
    {
      "cell_type": "markdown",
      "metadata": {
        "id": "q2uzQh170r1_"
      },
      "source": [
        "### Exercise 2:\n",
        "You are given\n",
        "\n",
        "$y=\\exp(2x_1)+x_2^2$.\n",
        "\n",
        "Calculate $\\triangledown y = \\left( \\frac{\\delta y}{\\delta x_1},\n",
        "\\frac{\\delta y}{\\delta x_2} \\right)$ at $x_1=1.0$ and $x_2=2.0$."
      ],
      "id": "q2uzQh170r1_"
    },
    {
      "cell_type": "code",
      "source": [
        "x = torch.tensor([1.0, 2.0], requires_grad=True, dtype=torch.float32)\n",
        "y=torch.exp(2*x[0])+x[1]**2\n",
        "y.backward()\n",
        "x.grad"
      ],
      "metadata": {
        "id": "ioSxcy8ukLOr",
        "colab": {
          "base_uri": "https://localhost:8080/"
        },
        "outputId": "5aff7062-42fa-4594-ea64-e0b1de8d5a77"
      },
      "id": "ioSxcy8ukLOr",
      "execution_count": 13,
      "outputs": [
        {
          "output_type": "execute_result",
          "data": {
            "text/plain": [
              "tensor([14.7781,  4.0000])"
            ]
          },
          "metadata": {},
          "execution_count": 13
        }
      ]
    },
    {
      "cell_type": "code",
      "source": [
        "### See why the following is not working\n",
        "x = torch.tensor([1.0, 2.0], requires_grad=True, dtype=torch.float32)\n",
        "y=torch.math.exp(2*x[0])\n",
        "y.backward()\n",
        "x.grad"
      ],
      "metadata": {
        "colab": {
          "base_uri": "https://localhost:8080/",
          "height": 203
        },
        "id": "kSjDvNJC8hxm",
        "outputId": "75d604e8-ae5a-4af1-9324-da6747766959"
      },
      "id": "kSjDvNJC8hxm",
      "execution_count": 16,
      "outputs": [
        {
          "output_type": "error",
          "ename": "AttributeError",
          "evalue": "'float' object has no attribute 'backward'",
          "traceback": [
            "\u001b[0;31m---------------------------------------------------------------------------\u001b[0m",
            "\u001b[0;31mAttributeError\u001b[0m                            Traceback (most recent call last)",
            "\u001b[0;32m<ipython-input-16-ac2574918c29>\u001b[0m in \u001b[0;36m<cell line: 4>\u001b[0;34m()\u001b[0m\n\u001b[1;32m      2\u001b[0m \u001b[0mx\u001b[0m \u001b[0;34m=\u001b[0m \u001b[0mtorch\u001b[0m\u001b[0;34m.\u001b[0m\u001b[0mtensor\u001b[0m\u001b[0;34m(\u001b[0m\u001b[0;34m[\u001b[0m\u001b[0;36m1.0\u001b[0m\u001b[0;34m,\u001b[0m \u001b[0;36m2.0\u001b[0m\u001b[0;34m]\u001b[0m\u001b[0;34m,\u001b[0m \u001b[0mrequires_grad\u001b[0m\u001b[0;34m=\u001b[0m\u001b[0;32mTrue\u001b[0m\u001b[0;34m,\u001b[0m \u001b[0mdtype\u001b[0m\u001b[0;34m=\u001b[0m\u001b[0mtorch\u001b[0m\u001b[0;34m.\u001b[0m\u001b[0mfloat32\u001b[0m\u001b[0;34m)\u001b[0m\u001b[0;34m\u001b[0m\u001b[0;34m\u001b[0m\u001b[0m\n\u001b[1;32m      3\u001b[0m \u001b[0my\u001b[0m\u001b[0;34m=\u001b[0m\u001b[0mtorch\u001b[0m\u001b[0;34m.\u001b[0m\u001b[0mmath\u001b[0m\u001b[0;34m.\u001b[0m\u001b[0mexp\u001b[0m\u001b[0;34m(\u001b[0m\u001b[0;36m2\u001b[0m\u001b[0;34m*\u001b[0m\u001b[0mx\u001b[0m\u001b[0;34m[\u001b[0m\u001b[0;36m0\u001b[0m\u001b[0;34m]\u001b[0m\u001b[0;34m)\u001b[0m\u001b[0;34m\u001b[0m\u001b[0;34m\u001b[0m\u001b[0m\n\u001b[0;32m----> 4\u001b[0;31m \u001b[0my\u001b[0m\u001b[0;34m.\u001b[0m\u001b[0mbackward\u001b[0m\u001b[0;34m(\u001b[0m\u001b[0;34m)\u001b[0m\u001b[0;34m\u001b[0m\u001b[0;34m\u001b[0m\u001b[0m\n\u001b[0m\u001b[1;32m      5\u001b[0m \u001b[0mx\u001b[0m\u001b[0;34m.\u001b[0m\u001b[0mgrad\u001b[0m\u001b[0;34m\u001b[0m\u001b[0;34m\u001b[0m\u001b[0m\n",
            "\u001b[0;31mAttributeError\u001b[0m: 'float' object has no attribute 'backward'"
          ]
        }
      ]
    },
    {
      "cell_type": "markdown",
      "source": [
        "## 2.5 Chain rules amd gradients\n",
        "\n"
      ],
      "metadata": {
        "id": "ZC49BTTdvuc7"
      },
      "id": "ZC49BTTdvuc7"
    },
    {
      "cell_type": "markdown",
      "source": [
        "## Example 1:\n",
        "\n",
        "You are given $f(x_1, x_2)=(x_1+2x_2^3)^2$.\n",
        "\n",
        "* Calculate grad $f$ at $(x_1, x_2)=(1,2)$.\n",
        "\n",
        "Here, we are presenting two solutions. What is the difference?"
      ],
      "metadata": {
        "id": "VkS3YLbk-i4u"
      },
      "id": "VkS3YLbk-i4u"
    },
    {
      "cell_type": "code",
      "source": [
        "x = torch.tensor([1.0, 2.0], requires_grad=True)\n",
        "f = (x[0]+2*x[1]**3)**2\n",
        "f.backward()\n",
        "x.grad"
      ],
      "metadata": {
        "colab": {
          "base_uri": "https://localhost:8080/"
        },
        "id": "i85LbKcH_Mbb",
        "outputId": "c72a30b5-11bc-458d-f9e2-1efb6f9f27fc"
      },
      "id": "i85LbKcH_Mbb",
      "execution_count": 17,
      "outputs": [
        {
          "output_type": "execute_result",
          "data": {
            "text/plain": [
              "tensor([ 34., 816.])"
            ]
          },
          "metadata": {},
          "execution_count": 17
        }
      ]
    },
    {
      "cell_type": "code",
      "source": [
        "x = torch.tensor([[1.0, 2.0]], requires_grad=True)\n",
        "f = (x[0,0]+2*x[0,1]**3)**2\n",
        "f.backward()\n",
        "x.grad"
      ],
      "metadata": {
        "colab": {
          "base_uri": "https://localhost:8080/"
        },
        "id": "Q0mwBaC_-iND",
        "outputId": "cdae8cb4-f4c7-4ddf-a7c8-50a35554a368"
      },
      "id": "Q0mwBaC_-iND",
      "execution_count": 18,
      "outputs": [
        {
          "output_type": "execute_result",
          "data": {
            "text/plain": [
              "tensor([[ 34., 816.]])"
            ]
          },
          "metadata": {},
          "execution_count": 18
        }
      ]
    },
    {
      "cell_type": "markdown",
      "source": [
        "### Example 2:\n",
        "\n",
        "Let $f(x)=x_1^2+2x_2$ and $g(t)=\\begin{pmatrix} \\sin(t) \\\\ \\cos(t)\\end{pmatrix}.$"
      ],
      "metadata": {
        "id": "itswXHsE-gGG"
      },
      "id": "itswXHsE-gGG"
    },
    {
      "cell_type": "code",
      "source": [
        "import torch\n",
        "t=torch.tensor([1.0], requires_grad=True)\n",
        "g=torch.sin(t)**2+2* torch.cos(t)\n",
        "g.backward()\n",
        "t.grad"
      ],
      "metadata": {
        "colab": {
          "base_uri": "https://localhost:8080/"
        },
        "id": "xwZYKhzk8oGO",
        "outputId": "e0d86585-e1e6-44b9-a934-bb9f414bffbd"
      },
      "id": "xwZYKhzk8oGO",
      "execution_count": 19,
      "outputs": [
        {
          "output_type": "execute_result",
          "data": {
            "text/plain": [
              "tensor([-0.7736])"
            ]
          },
          "metadata": {},
          "execution_count": 19
        }
      ]
    },
    {
      "cell_type": "code",
      "source": [
        "import torch\n",
        "t=torch.tensor([1.0], requires_grad=True)\n",
        "g=[torch.sin(t), torch.cos(t)]\n",
        "f=g[0]**2 + 2*g[1]\n",
        "f.backward()\n",
        "print(t.grad)"
      ],
      "metadata": {
        "colab": {
          "base_uri": "https://localhost:8080/"
        },
        "id": "We0PnA-UvtTc",
        "outputId": "34b5ef9c-f7ae-4132-ce79-13d07c2bd0f2"
      },
      "id": "We0PnA-UvtTc",
      "execution_count": 20,
      "outputs": [
        {
          "output_type": "stream",
          "name": "stdout",
          "text": [
            "tensor([-0.7736])\n"
          ]
        }
      ]
    },
    {
      "cell_type": "code",
      "source": [],
      "metadata": {
        "id": "piaO4B6lwQsU"
      },
      "id": "piaO4B6lwQsU",
      "execution_count": null,
      "outputs": []
    },
    {
      "cell_type": "markdown",
      "source": [
        "## 2.6$^*$ Jacobian (Second derivatives)\n",
        "\n"
      ],
      "metadata": {
        "id": "Qb2YElefSeWn"
      },
      "id": "Qb2YElefSeWn"
    },
    {
      "cell_type": "code",
      "source": [
        "import torch\n",
        "def myftn(x, y):\n",
        "    return 2 * torch.exp(x) + 3 * y\n",
        "\n",
        "inputs = (torch.rand(1), torch.rand(1)) # arguments for the function\n",
        "print(inputs)\n",
        "torch.autograd.functional.jacobian(myftn, inputs)"
      ],
      "metadata": {
        "colab": {
          "base_uri": "https://localhost:8080/"
        },
        "id": "hNmCSKBbSink",
        "outputId": "73c354ef-48b8-4a68-ebbc-8c136a6df3bc"
      },
      "id": "hNmCSKBbSink",
      "execution_count": 21,
      "outputs": [
        {
          "output_type": "stream",
          "name": "stdout",
          "text": [
            "(tensor([0.4900]), tensor([0.6512]))\n"
          ]
        },
        {
          "output_type": "execute_result",
          "data": {
            "text/plain": [
              "(tensor([[3.2648]]), tensor([[3.]]))"
            ]
          },
          "metadata": {},
          "execution_count": 21
        }
      ]
    },
    {
      "cell_type": "markdown",
      "source": [
        "## HW 1:\n",
        "\n",
        "You are given $X$ and $Y$. Using the linear regression, you want to have the following model\n",
        "\n",
        "$\\widehat{Y}=\\widehat{\\beta}_0+\\widehat{\\beta}_1X$\n",
        "\n",
        "by minimizing the following square loss\n",
        "\n",
        "$g(\\beta_0, \\beta_1)=\\sum\\limits_{i=1}^{20}(y_i-(\\beta_0+\\beta_1 x_i))^2$.\n",
        "\n",
        "Answer the following questions.\n",
        "\n",
        "1. Calculate grad $g$ at $(\\beta_0, \\beta_1)=(1.0, 0.5)$ without using autograd.\n",
        "\n",
        "2. Calculate grad $g$ at $(\\beta_0, \\beta_1)=(1.0, 0.5)$ using autograd.\n",
        "\n",
        "3. Reshape $X$ into the shape of $[20,1]$ and name it as $XX$. Then, calculate grad $g$ at $(\\beta_0, \\beta_1)=(1.0, 0.5)$ using autograd. (Caution: your answer should be the same as in 2.)\n",
        "\n",
        "4. Stack $X$ and $Y$ to make $MY\\_data1$ of shape $[20,2]$. Then, calculate grad $g$ at $(\\beta_0, \\beta_1)=(1.0, 0.5)$ using autograd. (Caution: your answer should be the same as in 2.)\n",
        "\n",
        "5. Concatenate $X$ and $Y$ to make $MY\\_data2$ of shape $[20,2]$. (Use the reshape if necessary) Then, calculate grad $g$ at $(\\beta_0, \\beta_1)=(1.0, 0.5)$ using autograd. (Caution: your answer should be the same as in 2.)"
      ],
      "metadata": {
        "id": "c4RGZgC-BPcx"
      },
      "id": "c4RGZgC-BPcx"
    },
    {
      "cell_type": "code",
      "source": [
        "import torch\n",
        "import matplotlib.pyplot as plt\n",
        "import numpy as np\n",
        "\n",
        "X=torch.tensor([-3.0000e+00, -2.7000e+00, -2.4000e+00, -2.1000e+00, -1.8000e+00,\n",
        "        -1.5000e+00, -1.2000e+00, -9.0000e-01, -6.0000e-01, -3.0000e-01,\n",
        "        -2.3842e-08,  3.0000e-01,  6.0000e-01,  9.0000e-01,  1.2000e+00,\n",
        "         1.5000e+00,  1.8000e+00,  2.1000e+00,  2.4000e+00,  2.7000e+00])"
      ],
      "metadata": {
        "id": "rj-hsS6h7rl1"
      },
      "id": "rj-hsS6h7rl1",
      "execution_count": 58,
      "outputs": []
    },
    {
      "cell_type": "code",
      "source": [
        "Y = torch.tensor([-7.1452, -5.4253, -5.1977, -3.6225, -3.8022, -4.4101, -4.6622, -3.1932,\n",
        "        -1.7325, -1.8879, -1.0742, -0.2320,  1.8226,  1.5453, -1.5535,  0.8857,\n",
        "         1.7537,  3.1607,  1.8912,  4.0895])"
      ],
      "metadata": {
        "id": "-J--aAeqBTKV"
      },
      "id": "-J--aAeqBTKV",
      "execution_count": 59,
      "outputs": []
    },
    {
      "cell_type": "markdown",
      "source": [
        "# 2. Calculate grad  g  at  (β0,β1)=(1.0,0.5)  using autograd"
      ],
      "metadata": {
        "id": "A9mSnUZ7hQdX"
      },
      "id": "A9mSnUZ7hQdX"
    },
    {
      "cell_type": "code",
      "source": [
        "beta = torch.tensor([1.0,0.5], requires_grad=True)\n",
        "L = torch.sum(( Y - (beta[0] + beta[1] * X))**2)\n",
        "L.backward()\n",
        "beta.grad"
      ],
      "metadata": {
        "colab": {
          "base_uri": "https://localhost:8080/"
        },
        "id": "n67bcwJegLUg",
        "outputId": "9c5d2bcd-c315-44ba-d84b-bf1413bdd5c9"
      },
      "id": "n67bcwJegLUg",
      "execution_count": 48,
      "outputs": [
        {
          "output_type": "execute_result",
          "data": {
            "text/plain": [
              "tensor([  94.5796, -159.6058])"
            ]
          },
          "metadata": {},
          "execution_count": 48
        }
      ]
    },
    {
      "cell_type": "markdown",
      "source": [
        "# 3. Reshape  X  into the shape of  [20,1]  and name it as  XX . Then, calculate grad  g  at  (β0,β1)=(1.0,0.5)  using autograd. (Caution: your answer should be the same as in 2.)"
      ],
      "metadata": {
        "id": "BB5cYJx0hXdZ"
      },
      "id": "BB5cYJx0hXdZ"
    },
    {
      "cell_type": "code",
      "source": [
        "XX = X.reshape([-1,1])\n",
        "XX.shape"
      ],
      "metadata": {
        "colab": {
          "base_uri": "https://localhost:8080/"
        },
        "id": "BsrGFNSnhYEj",
        "outputId": "1544d7a5-be0b-4718-b44a-46d647c6941f"
      },
      "id": "BsrGFNSnhYEj",
      "execution_count": 52,
      "outputs": [
        {
          "output_type": "execute_result",
          "data": {
            "text/plain": [
              "torch.Size([20, 1])"
            ]
          },
          "metadata": {},
          "execution_count": 52
        }
      ]
    },
    {
      "cell_type": "code",
      "source": [
        "beta = torch.tensor([1.0,0.5], requires_grad=True)\n",
        "XX = X.reshape([-1,1])\n",
        "L = torch.sum(( Y.reshape([-1,1]) - (beta[0] + beta[1] * XX))**2)\n",
        "L.backward()\n",
        "beta.grad"
      ],
      "metadata": {
        "colab": {
          "base_uri": "https://localhost:8080/"
        },
        "id": "vdthgR1zjlsg",
        "outputId": "abfda659-0486-4007-eeb9-21a53eda4751"
      },
      "id": "vdthgR1zjlsg",
      "execution_count": 54,
      "outputs": [
        {
          "output_type": "execute_result",
          "data": {
            "text/plain": [
              "tensor([  94.5796, -159.6058])"
            ]
          },
          "metadata": {},
          "execution_count": 54
        }
      ]
    },
    {
      "cell_type": "markdown",
      "source": [
        "# 4. Stack  X  and  Y  to make  MY_data1  of shape  [20,2] . Then, calculate grad  g  at  (β0,β1)=(1.0,0.5)  using autograd. (Caution: your answer should be the same as in 2.)"
      ],
      "metadata": {
        "id": "nk9dRyqBkWUM"
      },
      "id": "nk9dRyqBkWUM"
    },
    {
      "cell_type": "code",
      "source": [
        "beta = torch.tensor([1.0,0.5], requires_grad=True)\n",
        "MY_data1 = torch.stack([X,Y], axis=1)\n",
        "\n",
        "L = torch.sum((MY_data1[:,1:] - (beta[0]+beta[1]*MY_data1[:,:1]))**2 )\n",
        "L.backward()\n",
        "beta.grad"
      ],
      "metadata": {
        "colab": {
          "base_uri": "https://localhost:8080/"
        },
        "id": "qU8GDsDKkXOV",
        "outputId": "393bda29-7b30-42cc-8fa6-11f59f1627bf"
      },
      "id": "qU8GDsDKkXOV",
      "execution_count": 63,
      "outputs": [
        {
          "output_type": "execute_result",
          "data": {
            "text/plain": [
              "tensor([  94.5796, -159.6058])"
            ]
          },
          "metadata": {},
          "execution_count": 63
        }
      ]
    },
    {
      "cell_type": "markdown",
      "source": [
        "# 5. Concatenate  X  and  Y  to make  MY_data2  of shape  [20,2] . (Use the reshape if necessary) Then, calculate grad  g  at  (β0,β1)=(1.0,0.5)  using autograd. (Caution: your answer should be the same as in 2.)"
      ],
      "metadata": {
        "id": "Dqb52OEvnfY_"
      },
      "id": "Dqb52OEvnfY_"
    },
    {
      "cell_type": "code",
      "source": [
        "ones = torch.ones([20])\n",
        "X_ = torch.concat([ones,X])\n",
        "X_.shape ## 원하는게 아니야"
      ],
      "metadata": {
        "colab": {
          "base_uri": "https://localhost:8080/"
        },
        "id": "tiznhepCnWv7",
        "outputId": "3e4bb978-8b75-4fda-d6be-73f564c2f6a4"
      },
      "id": "tiznhepCnWv7",
      "execution_count": 65,
      "outputs": [
        {
          "output_type": "execute_result",
          "data": {
            "text/plain": [
              "torch.Size([40])"
            ]
          },
          "metadata": {},
          "execution_count": 65
        }
      ]
    },
    {
      "cell_type": "code",
      "source": [
        "BETA = torch.tensor([[1.0],\n",
        "                     [0.5]], requires_grad=True)\n",
        "ones = torch.ones([20])\n",
        "X_ = torch.stack([ones, X], axis = 1)\n",
        "L = torch.sum((Y.reshape([-1,1])-X_ @ BETA)**2) #Y를_reshape안하고_돌리면_오류남\n",
        "L.backward()\n",
        "BETA.grad"
      ],
      "metadata": {
        "colab": {
          "base_uri": "https://localhost:8080/"
        },
        "id": "55IsoXtcno58",
        "outputId": "f793f6f7-1ef4-4e85-8727-3452638a4fd1"
      },
      "id": "55IsoXtcno58",
      "execution_count": 71,
      "outputs": [
        {
          "output_type": "execute_result",
          "data": {
            "text/plain": [
              "tensor([[  94.5796],\n",
              "        [-159.6058]])"
            ]
          },
          "metadata": {},
          "execution_count": 71
        }
      ]
    },
    {
      "cell_type": "code",
      "source": [
        "beta = torch.tensor([1.0, 0.5], requires_grad=True)\n",
        "ones = torch.ones([20])\n",
        "X_ = torch.stack([ones, X], axis = 1)\n",
        "L = torch.sum((Y.reshape([-1,1])-X_ @ beta.reshape([2,1]))**2)\n",
        "L.backward()\n",
        "beta.grad"
      ],
      "metadata": {
        "colab": {
          "base_uri": "https://localhost:8080/"
        },
        "id": "e0g7Ho6uo-22",
        "outputId": "efa2510f-5eeb-4ce6-d85c-b2406cac1d8c"
      },
      "id": "e0g7Ho6uo-22",
      "execution_count": 76,
      "outputs": [
        {
          "output_type": "execute_result",
          "data": {
            "text/plain": [
              "tensor([  94.5796, -159.6058])"
            ]
          },
          "metadata": {},
          "execution_count": 76
        }
      ]
    },
    {
      "cell_type": "markdown",
      "source": [
        "## HW 2:\n",
        "\n",
        "You are given\n",
        "\n",
        "$f(x)=x^3-3x^2+4$\n",
        "\n",
        "Answer the following questions.\n",
        "\n",
        "1. Draw the graph of $(x,f(x))$ for $x\\in [-5, 5]$.\n",
        "2. Draw the graph of $(x,f^{\\prime}(x))$ for $x\\in [-5, 5]$ using augograd in torch.\n",
        "\n",
        "\n"
      ],
      "metadata": {
        "id": "slWy4oJhDtD-"
      },
      "id": "slWy4oJhDtD-"
    },
    {
      "cell_type": "markdown",
      "source": [
        "# 1. Draw the graph of  (x,f(x))  for  x∈[−5,5] ."
      ],
      "metadata": {
        "id": "nj6vitcyp52g"
      },
      "id": "nj6vitcyp52g"
    },
    {
      "cell_type": "code",
      "source": [
        "import matplotlib.pyplot as plt\n",
        "X = np.linspace(-5,5,num=200)\n",
        "Y = X**3 - 3*X +4\n",
        "plt.scatter(X,Y)"
      ],
      "metadata": {
        "colab": {
          "base_uri": "https://localhost:8080/",
          "height": 448
        },
        "id": "55NKM2N0a23g",
        "outputId": "8135f5c9-74e2-437b-fff9-681d15a7f745"
      },
      "id": "55NKM2N0a23g",
      "execution_count": 80,
      "outputs": [
        {
          "output_type": "execute_result",
          "data": {
            "text/plain": [
              "<matplotlib.collections.PathCollection at 0x7f66bfeeee60>"
            ]
          },
          "metadata": {},
          "execution_count": 80
        },
        {
          "output_type": "display_data",
          "data": {
            "text/plain": [
              "<Figure size 640x480 with 1 Axes>"
            ],
            "image/png": "[encoded data removed]"
          },
          "metadata": {}
        }
      ]
    },
    {
      "cell_type": "markdown",
      "source": [
        "# 2. Draw the graph of  (x,f′(x))  for  x∈[−5,5]  using augograd in torch."
      ],
      "metadata": {
        "id": "FxqqtJblrUaR"
      },
      "id": "FxqqtJblrUaR"
    },
    {
      "cell_type": "code",
      "source": [
        "import matplotlib.pyplot as plt\n",
        "x_value= np.linspace(-5,5,num=200)\n",
        "dy_dx = []\n",
        "\n",
        "for i in range(200):\n",
        "  x = torch.tensor(x_value[i], requires_grad=True)\n",
        "  y = x**3 - 3*x**2 + 4\n",
        "  y.backward()\n",
        "\n",
        "  derivative = x.grad\n",
        "  dy_dx.append(derivative.detach().numpy())\n",
        "  #0R:y_dx.append(derivative.item())"
      ],
      "metadata": {
        "id": "NnuqXmuwrVI_"
      },
      "id": "NnuqXmuwrVI_",
      "execution_count": 88,
      "outputs": []
    },
    {
      "cell_type": "code",
      "source": [
        "plt.plot(x_value,np.array(dy_dx))"
      ],
      "metadata": {
        "colab": {
          "base_uri": "https://localhost:8080/",
          "height": 448
        },
        "id": "zdg4w4PitBbg",
        "outputId": "740be1bb-fb6d-46be-ef5f-e713320656d0"
      },
      "id": "zdg4w4PitBbg",
      "execution_count": 86,
      "outputs": [
        {
          "output_type": "execute_result",
          "data": {
            "text/plain": [
              "[<matplotlib.lines.Line2D at 0x7f66bd79cb80>]"
            ]
          },
          "metadata": {},
          "execution_count": 86
        },
        {
          "output_type": "display_data",
          "data": {
            "text/plain": [
              "<Figure size 640x480 with 1 Axes>"
            ],
            "image/png": "[encoded data removed]"
          },
          "metadata": {}
        }
      ]
    },
    {
      "cell_type": "code",
      "source": [
        "dy_dx"
      ],
      "metadata": {
        "colab": {
          "base_uri": "https://localhost:8080/"
        },
        "id": "Z1xURldtrjmu",
        "outputId": "fb120a0f-da15-433a-f58f-24387a7fe436"
      },
      "id": "Z1xURldtrjmu",
      "execution_count": 83,
      "outputs": [
        {
          "output_type": "execute_result",
          "data": {
            "text/plain": [
              "[tensor(105., dtype=torch.float64),\n",
              " tensor(103.1985, dtype=torch.float64),\n",
              " tensor(101.4122, dtype=torch.float64),\n",
              " tensor(99.6410, dtype=torch.float64),\n",
              " tensor(97.8850, dtype=torch.float64),\n",
              " tensor(96.1442, dtype=torch.float64),\n",
              " tensor(94.4184, dtype=torch.float64),\n",
              " tensor(92.7079, dtype=torch.float64),\n",
              " tensor(91.0125, dtype=torch.float64),\n",
              " tensor(89.3322, dtype=torch.float64),\n",
              " tensor(87.6671, dtype=torch.float64),\n",
              " tensor(86.0171, dtype=torch.float64),\n",
              " tensor(84.3823, dtype=torch.float64),\n",
              " tensor(82.7627, dtype=torch.float64),\n",
              " tensor(81.1582, dtype=torch.float64),\n",
              " tensor(79.5688, dtype=torch.float64),\n",
              " tensor(77.9946, dtype=torch.float64),\n",
              " tensor(76.4356, dtype=torch.float64),\n",
              " tensor(74.8917, dtype=torch.float64),\n",
              " tensor(73.3629, dtype=torch.float64),\n",
              " tensor(71.8493, dtype=torch.float64),\n",
              " tensor(70.3509, dtype=torch.float64),\n",
              " tensor(68.8676, dtype=torch.float64),\n",
              " tensor(67.3994, dtype=torch.float64),\n",
              " tensor(65.9464, dtype=torch.float64),\n",
              " tensor(64.5086, dtype=torch.float64),\n",
              " tensor(63.0859, dtype=torch.float64),\n",
              " tensor(61.6784, dtype=torch.float64),\n",
              " tensor(60.2860, dtype=torch.float64),\n",
              " tensor(58.9087, dtype=torch.float64),\n",
              " tensor(57.5467, dtype=torch.float64),\n",
              " tensor(56.1997, dtype=torch.float64),\n",
              " tensor(54.8679, dtype=torch.float64),\n",
              " tensor(53.5513, dtype=torch.float64),\n",
              " tensor(52.2498, dtype=torch.float64),\n",
              " tensor(50.9635, dtype=torch.float64),\n",
              " tensor(49.6923, dtype=torch.float64),\n",
              " tensor(48.4363, dtype=torch.float64),\n",
              " tensor(47.1954, dtype=torch.float64),\n",
              " tensor(45.9697, dtype=torch.float64),\n",
              " tensor(44.7591, dtype=torch.float64),\n",
              " tensor(43.5637, dtype=torch.float64),\n",
              " tensor(42.3834, dtype=torch.float64),\n",
              " tensor(41.2183, dtype=torch.float64),\n",
              " tensor(40.0683, dtype=torch.float64),\n",
              " tensor(38.9335, dtype=torch.float64),\n",
              " tensor(37.8138, dtype=torch.float64),\n",
              " tensor(36.7093, dtype=torch.float64),\n",
              " tensor(35.6199, dtype=torch.float64),\n",
              " tensor(34.5457, dtype=torch.float64),\n",
              " tensor(33.4867, dtype=torch.float64),\n",
              " tensor(32.4427, dtype=torch.float64),\n",
              " tensor(31.4140, dtype=torch.float64),\n",
              " tensor(30.4004, dtype=torch.float64),\n",
              " tensor(29.4019, dtype=torch.float64),\n",
              " tensor(28.4186, dtype=torch.float64),\n",
              " tensor(27.4504, dtype=torch.float64),\n",
              " tensor(26.4974, dtype=torch.float64),\n",
              " tensor(25.5596, dtype=torch.float64),\n",
              " tensor(24.6369, dtype=torch.float64),\n",
              " tensor(23.7293, dtype=torch.float64),\n",
              " tensor(22.8369, dtype=torch.float64),\n",
              " tensor(21.9597, dtype=torch.float64),\n",
              " tensor(21.0976, dtype=torch.float64),\n",
              " tensor(20.2506, dtype=torch.float64),\n",
              " tensor(19.4188, dtype=torch.float64),\n",
              " tensor(18.6022, dtype=torch.float64),\n",
              " tensor(17.8007, dtype=torch.float64),\n",
              " tensor(17.0143, dtype=torch.float64),\n",
              " tensor(16.2432, dtype=torch.float64),\n",
              " tensor(15.4871, dtype=torch.float64),\n",
              " tensor(14.7462, dtype=torch.float64),\n",
              " tensor(14.0205, dtype=torch.float64),\n",
              " tensor(13.3099, dtype=torch.float64),\n",
              " tensor(12.6145, dtype=torch.float64),\n",
              " tensor(11.9342, dtype=torch.float64),\n",
              " tensor(11.2690, dtype=torch.float64),\n",
              " tensor(10.6191, dtype=torch.float64),\n",
              " tensor(9.9842, dtype=torch.float64),\n",
              " tensor(9.3645, dtype=torch.float64),\n",
              " tensor(8.7600, dtype=torch.float64),\n",
              " tensor(8.1706, dtype=torch.float64),\n",
              " tensor(7.5964, dtype=torch.float64),\n",
              " tensor(7.0373, dtype=torch.float64),\n",
              " tensor(6.4934, dtype=torch.float64),\n",
              " tensor(5.9646, dtype=torch.float64),\n",
              " tensor(5.4510, dtype=torch.float64),\n",
              " tensor(4.9525, dtype=torch.float64),\n",
              " tensor(4.4692, dtype=torch.float64),\n",
              " tensor(4.0010, dtype=torch.float64),\n",
              " tensor(3.5480, dtype=torch.float64),\n",
              " tensor(3.1101, dtype=torch.float64),\n",
              " tensor(2.6874, dtype=torch.float64),\n",
              " tensor(2.2799, dtype=torch.float64),\n",
              " tensor(1.8875, dtype=torch.float64),\n",
              " tensor(1.5102, dtype=torch.float64),\n",
              " tensor(1.1481, dtype=torch.float64),\n",
              " tensor(0.8011, dtype=torch.float64),\n",
              " tensor(0.4693, dtype=torch.float64),\n",
              " tensor(0.1526, dtype=torch.float64),\n",
              " tensor(-0.1489, dtype=torch.float64),\n",
              " tensor(-0.4352, dtype=torch.float64),\n",
              " tensor(-0.7064, dtype=torch.float64),\n",
              " tensor(-0.9625, dtype=torch.float64),\n",
              " tensor(-1.2034, dtype=torch.float64),\n",
              " tensor(-1.4291, dtype=torch.float64),\n",
              " tensor(-1.6397, dtype=torch.float64),\n",
              " tensor(-1.8352, dtype=torch.float64),\n",
              " tensor(-2.0155, dtype=torch.float64),\n",
              " tensor(-2.1806, dtype=torch.float64),\n",
              " tensor(-2.3306, dtype=torch.float64),\n",
              " tensor(-2.4655, dtype=torch.float64),\n",
              " tensor(-2.5852, dtype=torch.float64),\n",
              " tensor(-2.6897, dtype=torch.float64),\n",
              " tensor(-2.7791, dtype=torch.float64),\n",
              " tensor(-2.8533, dtype=torch.float64),\n",
              " tensor(-2.9124, dtype=torch.float64),\n",
              " tensor(-2.9564, dtype=torch.float64),\n",
              " tensor(-2.9852, dtype=torch.float64),\n",
              " tensor(-2.9988, dtype=torch.float64),\n",
              " tensor(-2.9973, dtype=torch.float64),\n",
              " tensor(-2.9806, dtype=torch.float64),\n",
              " tensor(-2.9488, dtype=torch.float64),\n",
              " tensor(-2.9018, dtype=torch.float64),\n",
              " tensor(-2.8397, dtype=torch.float64),\n",
              " tensor(-2.7624, dtype=torch.float64),\n",
              " tensor(-2.6700, dtype=torch.float64),\n",
              " tensor(-2.5624, dtype=torch.float64),\n",
              " tensor(-2.4397, dtype=torch.float64),\n",
              " tensor(-2.3018, dtype=torch.float64),\n",
              " tensor(-2.1488, dtype=torch.float64),\n",
              " tensor(-1.9806, dtype=torch.float64),\n",
              " tensor(-1.7973, dtype=torch.float64),\n",
              " tensor(-1.5988, dtype=torch.float64),\n",
              " tensor(-1.3852, dtype=torch.float64),\n",
              " tensor(-1.1564, dtype=torch.float64),\n",
              " tensor(-0.9125, dtype=torch.float64),\n",
              " tensor(-0.6534, dtype=torch.float64),\n",
              " tensor(-0.3792, dtype=torch.float64),\n",
              " tensor(-0.0898, dtype=torch.float64),\n",
              " tensor(0.2148, dtype=torch.float64),\n",
              " tensor(0.5345, dtype=torch.float64),\n",
              " tensor(0.8693, dtype=torch.float64),\n",
              " tensor(1.2193, dtype=torch.float64),\n",
              " tensor(1.5844, dtype=torch.float64),\n",
              " tensor(1.9647, dtype=torch.float64),\n",
              " tensor(2.3602, dtype=torch.float64),\n",
              " tensor(2.7708, dtype=torch.float64),\n",
              " tensor(3.1965, dtype=torch.float64),\n",
              " tensor(3.6374, dtype=torch.float64),\n",
              " tensor(4.0935, dtype=torch.float64),\n",
              " tensor(4.5647, dtype=torch.float64),\n",
              " tensor(5.0510, dtype=torch.float64),\n",
              " tensor(5.5525, dtype=torch.float64),\n",
              " tensor(6.0692, dtype=torch.float64),\n",
              " tensor(6.6010, dtype=torch.float64),\n",
              " tensor(7.1479, dtype=torch.float64),\n",
              " tensor(7.7100, dtype=torch.float64),\n",
              " tensor(8.2873, dtype=torch.float64),\n",
              " tensor(8.8797, dtype=torch.float64),\n",
              " tensor(9.4873, dtype=torch.float64),\n",
              " tensor(10.1100, dtype=torch.float64),\n",
              " tensor(10.7478, dtype=torch.float64),\n",
              " tensor(11.4008, dtype=torch.float64),\n",
              " tensor(12.0690, dtype=torch.float64),\n",
              " tensor(12.7523, dtype=torch.float64),\n",
              " tensor(13.4508, dtype=torch.float64),\n",
              " tensor(14.1644, dtype=torch.float64),\n",
              " tensor(14.8932, dtype=torch.float64),\n",
              " tensor(15.6371, dtype=torch.float64),\n",
              " tensor(16.3962, dtype=torch.float64),\n",
              " tensor(17.1704, dtype=torch.float64),\n",
              " tensor(17.9598, dtype=torch.float64),\n",
              " tensor(18.7643, dtype=torch.float64),\n",
              " tensor(19.5840, dtype=torch.float64),\n",
              " tensor(20.4188, dtype=torch.float64),\n",
              " tensor(21.2688, dtype=torch.float64),\n",
              " tensor(22.1339, dtype=torch.float64),\n",
              " tensor(23.0142, dtype=torch.float64),\n",
              " tensor(23.9096, dtype=torch.float64),\n",
              " tensor(24.8202, dtype=torch.float64),\n",
              " tensor(25.7459, dtype=torch.float64),\n",
              " tensor(26.6868, dtype=torch.float64),\n",
              " tensor(27.6429, dtype=torch.float64),\n",
              " tensor(28.6141, dtype=torch.float64),\n",
              " tensor(29.6004, dtype=torch.float64),\n",
              " tensor(30.6019, dtype=torch.float64),\n",
              " tensor(31.6185, dtype=torch.float64),\n",
              " tensor(32.6503, dtype=torch.float64),\n",
              " tensor(33.6973, dtype=torch.float64),\n",
              " tensor(34.7593, dtype=torch.float64),\n",
              " tensor(35.8366, dtype=torch.float64),\n",
              " tensor(36.9290, dtype=torch.float64),\n",
              " tensor(38.0365, dtype=torch.float64),\n",
              " tensor(39.1592, dtype=torch.float64),\n",
              " tensor(40.2971, dtype=torch.float64),\n",
              " tensor(41.4501, dtype=torch.float64),\n",
              " tensor(42.6182, dtype=torch.float64),\n",
              " tensor(43.8015, dtype=torch.float64),\n",
              " tensor(45., dtype=torch.float64)]"
            ]
          },
          "metadata": {},
          "execution_count": 83
        }
      ]
    }
  ]
}