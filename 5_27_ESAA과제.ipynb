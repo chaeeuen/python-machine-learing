{
  "nbformat": 4,
  "nbformat_minor": 0,
  "metadata": {
    "colab": {
      "provenance": [],
      "authorship_tag": "ABX9TyP1L0vwyzKUVAYic466UnCZ",
      "include_colab_link": true
    },
    "kernelspec": {
      "name": "python3",
      "display_name": "Python 3"
    },
    "language_info": {
      "name": "python"
    }
  },
  "cells": [
    {
      "cell_type": "markdown",
      "metadata": {
        "id": "view-in-github",
        "colab_type": "text"
      },
      "source": [
        "<a href=\"https://colab.research.google.com/github/chaeeuen/python-machine-learing/blob/main/5_27_ESAA%EA%B3%BC%EC%A0%9C.ipynb\" target=\"_parent\"><img src=\"https://colab.research.google.com/assets/colab-badge.svg\" alt=\"Open In Colab\"/></a>"
      ]
    },
    {
      "cell_type": "markdown",
      "source": [
        "03 평균 이동"
      ],
      "metadata": {
        "id": "tiuYW74NsZzq"
      }
    },
    {
      "cell_type": "code",
      "source": [
        "import numpy as np\n",
        "from sklearn.datasets import make_blobs\n",
        "from sklearn.cluster import MeanShift\n",
        "\n",
        "X,y = make_blobs(n_samples=200, n_features=2, centers=3, cluster_std=0.7, random_state=0)\n",
        "\n",
        "meanshift = MeanShift(bandwidth=0.8)\n",
        "cluster_labels = meanshift.fit_predict(X)\n",
        "print('cluster labels 유형:', np.unique(cluster_labels))"
      ],
      "metadata": {
        "colab": {
          "base_uri": "https://localhost:8080/"
        },
        "id": "GcZ3zP3Cu5N5",
        "outputId": "e57ee728-1ae6-4f07-919d-a12c863b6f8d"
      },
      "execution_count": 1,
      "outputs": [
        {
          "output_type": "stream",
          "name": "stdout",
          "text": [
            "cluster labels 유형: [0 1 2 3 4 5]\n"
          ]
        }
      ]
    },
    {
      "cell_type": "code",
      "source": [
        "meanshift = MeanShift(bandwidth=1)\n",
        "cluster_labels = meanshift.fit_predict(X)\n",
        "print('cluster labels 유형:', np.unique(cluster_labels))"
      ],
      "metadata": {
        "colab": {
          "base_uri": "https://localhost:8080/"
        },
        "id": "2j4WCN6ru8GW",
        "outputId": "95542fff-2554-4810-c71c-83bef53dee60"
      },
      "execution_count": 2,
      "outputs": [
        {
          "output_type": "stream",
          "name": "stdout",
          "text": [
            "cluster labels 유형: [0 1 2]\n"
          ]
        }
      ]
    },
    {
      "cell_type": "code",
      "source": [
        "from sklearn.cluster import estimate_bandwidth\n",
        "\n",
        "bandwidth = estimate_bandwidth(X)\n",
        "print('bandwidth 값:', round(bandwidth,3))"
      ],
      "metadata": {
        "colab": {
          "base_uri": "https://localhost:8080/"
        },
        "id": "gQ1BiiVbvMM-",
        "outputId": "7a948e5c-9260-4779-93dd-9b9a7ee600c7"
      },
      "execution_count": 3,
      "outputs": [
        {
          "output_type": "stream",
          "name": "stdout",
          "text": [
            "bandwidth 값: 1.816\n"
          ]
        }
      ]
    },
    {
      "cell_type": "code",
      "source": [
        "import pandas as pd\n",
        "clusterDF = pd.DataFrame(data=X, columns=['ftr1', 'ftr2'])\n",
        "clusterDF['target'] = y\n",
        "\n",
        "#estimate_bandwidth()로 최적의 bandwidth 계산\n",
        "best_bandwidth = estimate_bandwidth(X)\n",
        "\n",
        "meanshift = MeanShift(bandwidth=best_bandwidth)\n",
        "cluster_labels = meanshift.fit_predict(X)\n",
        "print('cluster labels유형:', np.unique(cluster_labels))"
      ],
      "metadata": {
        "colab": {
          "base_uri": "https://localhost:8080/"
        },
        "id": "8zk_7O06vOPL",
        "outputId": "0172754c-7d15-47e5-a111-dce27aea8c78"
      },
      "execution_count": 4,
      "outputs": [
        {
          "output_type": "stream",
          "name": "stdout",
          "text": [
            "cluster labels유형: [0 1 2]\n"
          ]
        }
      ]
    },
    {
      "cell_type": "code",
      "source": [
        "import matplotlib.pyplot as plt\n",
        "%matplotlib inline\n",
        "\n",
        "clusterDF['meanshift_label']=cluster_labels\n",
        "centers = meanshift.cluster_centers_\n",
        "unique_labels = np.unique(cluster_labels)\n",
        "markers=['o', 's', '^', 'x', '*']\n",
        "\n",
        "for label in unique_labels:\n",
        "  label_cluster = clusterDF[clusterDF['meanshift_label']==label]\n",
        "  center_x_y = centers[label]\n",
        "\n",
        "  #군집별로 다른 마커로 산점도 적용\n",
        "  plt.scatter(x=label_cluster['ftr1'], y=label_cluster['ftr2'], edgecolor='k', marker=markers[label])\n",
        "\n",
        "  #군집별 중심 표현\n",
        "  plt.scatter(x=center_x_y[0], y=center_x_y[1], s=200, color='gray', alpha=0.9, marker=markers[label])\n",
        "  plt.scatter(x=center_x_y[0], y=center_x_y[1], s=70, color='k', edgecolor='k', marker='' % label)\n",
        "\n",
        "plt.show()"
      ],
      "metadata": {
        "colab": {
          "base_uri": "https://localhost:8080/",
          "height": 492
        },
        "id": "zy65uvz3vQC-",
        "outputId": "8b47a2d5-7fed-4825-c13e-f498f35a5a4a"
      },
      "execution_count": 5,
      "outputs": [
        {
          "output_type": "stream",
          "name": "stderr",
          "text": [
            "<ipython-input-5-7523709bb41a>:18: UserWarning: You passed a edgecolor/edgecolors ('k') for an unfilled marker ('').  Matplotlib is ignoring the edgecolor in favor of the facecolor.  This behavior may change in the future.\n",
            "  plt.scatter(x=center_x_y[0], y=center_x_y[1], s=70, color='k', edgecolor='k', marker='' % label)\n"
          ]
        },
        {
          "output_type": "display_data",
          "data": {
            "text/plain": [
              "<Figure size 640x480 with 1 Axes>"
            ],
            "image/png": "[encoded data removed]"
          },
          "metadata": {}
        }
      ]
    },
    {
      "cell_type": "code",
      "source": [
        "print(clusterDF.groupby('target')['meanshift_label'].value_counts())"
      ],
      "metadata": {
        "colab": {
          "base_uri": "https://localhost:8080/"
        },
        "id": "c-QkvnNSvSCR",
        "outputId": "8c5d52d8-28a9-4f74-af82-0ea3eb12481b"
      },
      "execution_count": 6,
      "outputs": [
        {
          "output_type": "stream",
          "name": "stdout",
          "text": [
            "target  meanshift_label\n",
            "0       0                  67\n",
            "1       1                  67\n",
            "2       2                  66\n",
            "Name: count, dtype: int64\n"
          ]
        }
      ]
    },
    {
      "cell_type": "code",
      "source": [],
      "metadata": {
        "id": "Yrzm0pfcvUCj"
      },
      "execution_count": null,
      "outputs": []
    },
    {
      "cell_type": "markdown",
      "source": [
        "\n",
        "04 GMM(Gaussian Mixture Model) 소개"
      ],
      "metadata": {
        "id": "72VTyBtcvVXX"
      }
    },
    {
      "cell_type": "code",
      "source": [
        "from ast import increment_lineno\n",
        "from sklearn.datasets import load_iris\n",
        "from sklearn.cluster import KMeans\n",
        "\n",
        "import matplotlib.pyplot as plt\n",
        "import numpy as np\n",
        "import pandas as pd\n",
        "%matplotlib inline\n",
        "iris = load_iris()\n",
        "feature_names = ['sepal_length', 'sepal_width', 'petal_length', 'petal_width']\n",
        "\n",
        "#좀 더 편리한 데이터 handling을 위해 DataFrame으로 변환\n",
        "irisDF = pd.DataFrame(data=iris.data, columns=feature_names)\n",
        "irisDF['target']=iris.target"
      ],
      "metadata": {
        "id": "7Q0hmHKOvWg6"
      },
      "execution_count": 7,
      "outputs": []
    },
    {
      "cell_type": "code",
      "source": [
        "from sklearn.mixture import GaussianMixture\n",
        "\n",
        "gmm = GaussianMixture(n_components=3, random_state=0).fit(iris.data)\n",
        "gmm_cluster_labels = gmm.predict(iris.data)\n",
        "\n",
        "#군집화 결과를 irisDF의 'gmm_cluster' 칼럼 명으로 저장\n",
        "irisDF['gmm_cluster']=gmm_cluster_labels\n",
        "irisDF['target']=iris.target\n",
        "\n",
        "#target값에 따라 gmm_cluster 값이 어떻게 매핑됐는지 확인\n",
        "iris_result = irisDF.groupby(['target'])['gmm_cluster'].value_counts()\n",
        "print(iris_result)"
      ],
      "metadata": {
        "colab": {
          "base_uri": "https://localhost:8080/"
        },
        "id": "yiFJs0tAvYhl",
        "outputId": "21bf30b3-ae7d-472a-c040-fbb1c9e57cb1"
      },
      "execution_count": 8,
      "outputs": [
        {
          "output_type": "stream",
          "name": "stdout",
          "text": [
            "target  gmm_cluster\n",
            "0       0              50\n",
            "1       2              45\n",
            "        1               5\n",
            "2       1              50\n",
            "Name: count, dtype: int64\n"
          ]
        }
      ]
    },
    {
      "cell_type": "code",
      "source": [
        "#k-평균 군집화 수행\n",
        "kmeans = KMeans(n_clusters=3, init='k-means++', max_iter=300, random_state=0).fit(iris.data)\n",
        "kmeans_cluster_labels = kmeans.predict(iris.data)\n",
        "irisDF['kmeans_cluster']=kmeans_cluster_labels\n",
        "iris_result = irisDF.groupby(['target'])['kmeans_cluster'].value_counts()\n",
        "print(iris_result)"
      ],
      "metadata": {
        "colab": {
          "base_uri": "https://localhost:8080/"
        },
        "id": "qoif2dhtvaXJ",
        "outputId": "05aa6140-6d30-4eab-e4ff-24e7429488e7"
      },
      "execution_count": 9,
      "outputs": [
        {
          "output_type": "stream",
          "name": "stdout",
          "text": [
            "target  kmeans_cluster\n",
            "0       1                 50\n",
            "1       0                 48\n",
            "        2                  2\n",
            "2       2                 36\n",
            "        0                 14\n",
            "Name: count, dtype: int64\n"
          ]
        },
        {
          "output_type": "stream",
          "name": "stderr",
          "text": [
            "/usr/local/lib/python3.10/dist-packages/sklearn/cluster/_kmeans.py:870: FutureWarning: The default value of `n_init` will change from 10 to 'auto' in 1.4. Set the value of `n_init` explicitly to suppress the warning\n",
            "  warnings.warn(\n"
          ]
        }
      ]
    },
    {
      "cell_type": "code",
      "source": [],
      "metadata": {
        "id": "gJuWyn4MvcdP"
      },
      "execution_count": null,
      "outputs": []
    },
    {
      "cell_type": "markdown",
      "source": [
        "GMM과 K-평균의 비교"
      ],
      "metadata": {
        "id": "N90GW5pqved5"
      }
    },
    {
      "cell_type": "code",
      "source": [
        "from sklearn.datasets import make_blobs\n",
        "\n",
        "#make_blobs()로 300개의 데이터 세트, 3개의 군집 세트, cluster_std=0.5를 만듦\n",
        "X,y = make_blobs(n_samples=300, n_features=2, centers=3, cluster_std=0.5, random_state=0)\n",
        "\n",
        "#길게 늘어난 타원형의 데이터 세트를 세트를 생성하기 위해 변환함\n",
        "transformation = [[0.60834549, -0.63667341], [-0.40887718, 0.85253229]]\n",
        "X_aniso = np.dot(X, transformation)\n",
        "#feature 데이터 세트와 make_blobs()의 y결과값을 DataFrame으로 저장\n",
        "clusterDF = pd.DataFrame(data=X_aniso, columns=['ftr1', 'ftr2'])\n",
        "clusterDF['target']=y\n",
        "#생성된 데이터 세트를 target별로 다른 마커로 표시해 시각화함\n",
        "#visualize_cluster_plot(None, clusterDF, 'target', iscenter=False)"
      ],
      "metadata": {
        "id": "aW6VZA6DvgIp"
      },
      "execution_count": 10,
      "outputs": []
    },
    {
      "cell_type": "code",
      "source": [
        "#3개의 군집 기반 Kmeans를 X_aniso 데이터 세트에 적용\n",
        "kmeans = KMeans(3, random_state=0)\n",
        "kmeans_label = kmeans.fit_predict(X_aniso)\n",
        "clusterDF['kmeans_label'] = kmeans_label\n",
        "\n",
        "#visualize_cluster_plot(kmeans, clusterDF, 'kmeans_label', iscluster=True)"
      ],
      "metadata": {
        "colab": {
          "base_uri": "https://localhost:8080/"
        },
        "id": "MB5xx0tSvgoA",
        "outputId": "30d82311-cc7f-40fa-85c4-fb96a87e587a"
      },
      "execution_count": 11,
      "outputs": [
        {
          "output_type": "stream",
          "name": "stderr",
          "text": [
            "/usr/local/lib/python3.10/dist-packages/sklearn/cluster/_kmeans.py:870: FutureWarning: The default value of `n_init` will change from 10 to 'auto' in 1.4. Set the value of `n_init` explicitly to suppress the warning\n",
            "  warnings.warn(\n"
          ]
        }
      ]
    },
    {
      "cell_type": "code",
      "source": [
        "\n",
        "#3개의 n_components 기반 GMM을 X_aniso 데이터 세트에 적용\n",
        "gmm = GaussianMixture(n_components=3, random_state=0)\n",
        "gmm_label = gmm.fit(X_aniso).predict(X_aniso)\n",
        "clusterDF['gmm_label']= gmm_label\n",
        "\n",
        "#GaussianMixture는 cluster_centers_속성이 없으므로 iscluster를 False로 설정\n",
        "#visualize_cluster_plot(gmm, clusterDF, 'gmm_label', iscluster=True)"
      ],
      "metadata": {
        "id": "W5FVu1u-vilr"
      },
      "execution_count": 12,
      "outputs": []
    },
    {
      "cell_type": "code",
      "source": [
        "print('###KMeans Clustering###')\n",
        "print(clusterDF.groupby('target')['kmeans_label'].value_counts())\n",
        "print('\\n### Gaussian Mixture Clustering###')\n",
        "print(clusterDF.groupby('target')['gmm_label'].value_counts())"
      ],
      "metadata": {
        "colab": {
          "base_uri": "https://localhost:8080/"
        },
        "id": "KXUvvysPvkc8",
        "outputId": "9c32e469-e0ae-4be8-d710-11b9bc05ca4b"
      },
      "execution_count": 13,
      "outputs": [
        {
          "output_type": "stream",
          "name": "stdout",
          "text": [
            "###KMeans Clustering###\n",
            "target  kmeans_label\n",
            "0       2                73\n",
            "        0                27\n",
            "1       1               100\n",
            "2       0                86\n",
            "        2                14\n",
            "Name: count, dtype: int64\n",
            "\n",
            "### Gaussian Mixture Clustering###\n",
            "target  gmm_label\n",
            "0       2            100\n",
            "1       1            100\n",
            "2       0            100\n",
            "Name: count, dtype: int64\n"
          ]
        }
      ]
    },
    {
      "cell_type": "code",
      "source": [],
      "metadata": {
        "id": "PfoogiQFvl-B"
      },
      "execution_count": null,
      "outputs": []
    }
  ]
}